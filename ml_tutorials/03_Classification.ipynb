{
 "cells": [
  {
   "cell_type": "code",
   "execution_count": 1,
   "id": "b36e70a5-1565-4ea1-97b3-eb78c8015897",
   "metadata": {
    "tags": []
   },
   "outputs": [
    {
     "name": "stdout",
     "output_type": "stream",
     "text": [
      "Collecting tensorflow-hub\n",
      "  Downloading tensorflow_hub-0.14.0-py2.py3-none-any.whl (90 kB)\n",
      "\u001b[2K     \u001b[90m━━━━━━━━━━━━━━━━━━━━━━━━━━━━━━━━━━━━━━━━\u001b[0m \u001b[32m90.3/90.3 kB\u001b[0m \u001b[31m5.1 MB/s\u001b[0m eta \u001b[36m0:00:00\u001b[0m\n",
      "\u001b[?25hRequirement already satisfied: pillow in /srv/conda/envs/notebook/lib/python3.9/site-packages (9.5.0)\n",
      "Requirement already satisfied: numpy>=1.12.0 in /srv/conda/envs/notebook/lib/python3.9/site-packages (from tensorflow-hub) (1.23.5)\n",
      "Requirement already satisfied: protobuf>=3.19.6 in /srv/conda/envs/notebook/lib/python3.9/site-packages (from tensorflow-hub) (4.23.3)\n",
      "Installing collected packages: tensorflow-hub\n",
      "Successfully installed tensorflow-hub-0.14.0\n",
      "Note: you may need to restart the kernel to use updated packages.\n"
     ]
    }
   ],
   "source": [
    "pip install tensorflow-hub pillow"
   ]
  },
  {
   "cell_type": "code",
   "execution_count": 29,
   "id": "d3891f00-966d-43a1-844a-795bcc30a840",
   "metadata": {
    "tags": []
   },
   "outputs": [],
   "source": [
    "import numpy as np\n",
    "from PIL import Image\n",
    "import tensorflow as tf\n",
    "import tensorflow_hub as hub\n",
    "import warnings\n",
    "\n",
    "warnings.filterwarnings('ignore')"
   ]
  },
  {
   "cell_type": "markdown",
   "id": "6a25da5b-7a4d-44d3-8f79-6862f037f50c",
   "metadata": {},
   "source": [
    "**Image Preprocessing**\n",
    "\n",
    "The preprocess_image function performs preprocessing on a single image for it to be used by the model. It first opens an image at a given path and then resizes the image to the target size that the model requires. It then converts the image data to a NumPy array and normalizes pixel values to be within the range [0,1]. Finally, because the model expects inputs to be batches of images, we add an extra dimension to the image tensor. Even though we are only making a prediction on one image at a time, it needs to be treated as part of a batch."
   ]
  },
  {
   "cell_type": "code",
   "execution_count": 39,
   "id": "93caa0cc-ea02-4869-bcad-028c65df2532",
   "metadata": {
    "tags": []
   },
   "outputs": [],
   "source": [
    "def preprocess_image(image_path, target_size=(224, 224)):\n",
    "    # Open the image file\n",
    "    img = Image.open(image_path)\n",
    "    \n",
    "    # Resize the image to the target size. \n",
    "    # This is necessary because the model expects inputs to be of a certain size.\n",
    "    img = img.resize(target_size)\n",
    "    \n",
    "    # Convert the image data to a NumPy array and normalize pixel values to [0, 1]\n",
    "    # Image data is often represented as integers in the range [0, 255].\n",
    "    # However, many models expect the input data to be in the range [0, 1], hence we divide by 255.0\n",
    "    img = np.array(img) / 255.0\n",
    "    \n",
    "    # Add an extra dimension to the image tensor\n",
    "    # This is necessary because the model expects batches of images as input.\n",
    "    # Even though we're only predicting on one image at a time, it still has to be part of a batch.\n",
    "    img = np.expand_dims(img, axis=0)\n",
    "    \n",
    "    return img"
   ]
  },
  {
   "cell_type": "markdown",
   "id": "7db2be27-2b41-4e9c-9893-fe2f5f0c7a29",
   "metadata": {},
   "source": [
    "**Defining the EfficientnetB0 Model**\n",
    "\n",
    "This chunk shows how to utilize a pre-trained model, specifically the EfficientNetB0 model, using TensorFlow Hub. The model is downloaded from the provided URL and incorporated into our new Sequential model as a Keras Layer. The 'trainable' parameter is set to False, indicating that the weights of the pre-trained model are frozen and won't be updated during training. This technique is often referred to as 'Transfer Learning', which leverages the knowledge gained from training a model on a large dataset, in this case, the ImageNet dataset, and applying it to another related problem."
   ]
  },
  {
   "cell_type": "code",
   "execution_count": 31,
   "id": "e0658dd8-a88c-4ea1-876e-d6d74239bbcd",
   "metadata": {
    "collapsed": true,
    "jupyter": {
     "outputs_hidden": true
    },
    "tags": []
   },
   "outputs": [
    {
     "name": "stderr",
     "output_type": "stream",
     "text": [
      "2023-07-14 23:18:54.394207: I tensorflow/core/common_runtime/executor.cc:1197] [/device:CPU:0] (DEBUG INFO) Executor start aborting (this does not indicate an error and you can ignore this message): INVALID_ARGUMENT: You must feed a value for placeholder tensor 'inputs' with dtype int32 and shape [4]\n",
      "\t [[{{node inputs}}]]\n",
      "2023-07-14 23:18:54.394347: I tensorflow/core/common_runtime/executor.cc:1197] [/device:CPU:0] (DEBUG INFO) Executor start aborting (this does not indicate an error and you can ignore this message): INVALID_ARGUMENT: You must feed a value for placeholder tensor 'inputs' with dtype int32 and shape [4]\n",
      "\t [[{{node inputs}}]]\n",
      "2023-07-14 23:18:56.931258: I tensorflow/core/common_runtime/executor.cc:1197] [/device:CPU:0] (DEBUG INFO) Executor start aborting (this does not indicate an error and you can ignore this message): INVALID_ARGUMENT: You must feed a value for placeholder tensor 'inputs' with dtype int32 and shape [4]\n",
      "\t [[{{node inputs}}]]\n",
      "2023-07-14 23:18:56.931441: I tensorflow/core/common_runtime/executor.cc:1197] [/device:CPU:0] (DEBUG INFO) Executor start aborting (this does not indicate an error and you can ignore this message): INVALID_ARGUMENT: You must feed a value for placeholder tensor 'inputs' with dtype int32 and shape [4]\n",
      "\t [[{{node inputs}}]]\n",
      "2023-07-14 23:18:57.259786: I tensorflow/core/common_runtime/executor.cc:1197] [/device:CPU:0] (DEBUG INFO) Executor start aborting (this does not indicate an error and you can ignore this message): INVALID_ARGUMENT: You must feed a value for placeholder tensor 'inputs' with dtype int32 and shape [4]\n",
      "\t [[{{node inputs}}]]\n",
      "2023-07-14 23:18:57.259967: I tensorflow/core/common_runtime/executor.cc:1197] [/device:CPU:0] (DEBUG INFO) Executor start aborting (this does not indicate an error and you can ignore this message): INVALID_ARGUMENT: You must feed a value for placeholder tensor 'inputs' with dtype int32 and shape [4]\n",
      "\t [[{{node inputs}}]]\n",
      "2023-07-14 23:18:57.402200: I tensorflow/core/common_runtime/executor.cc:1197] [/device:CPU:0] (DEBUG INFO) Executor start aborting (this does not indicate an error and you can ignore this message): INVALID_ARGUMENT: You must feed a value for placeholder tensor 'inputs' with dtype int32 and shape [4]\n",
      "\t [[{{node inputs}}]]\n",
      "2023-07-14 23:18:57.402388: I tensorflow/core/common_runtime/executor.cc:1197] [/device:CPU:0] (DEBUG INFO) Executor start aborting (this does not indicate an error and you can ignore this message): INVALID_ARGUMENT: You must feed a value for placeholder tensor 'inputs' with dtype int32 and shape [4]\n",
      "\t [[{{node inputs}}]]\n"
     ]
    }
   ],
   "source": [
    "# Define the URL where the pre-trained model can be downloaded\n",
    "model_url = \"https://tfhub.dev/tensorflow/efficientnet/b0/classification/1\"\n",
    "\n",
    "# Create a new Sequential model\n",
    "model = tf.keras.Sequential([\n",
    "    # Add a Keras Layer which uses the pre-trained model from TensorFlow Hub\n",
    "    # We set trainable to False to freeze the weights of the pre-trained model\n",
    "    hub.KerasLayer(model_url, trainable=False)\n",
    "])"
   ]
  },
  {
   "cell_type": "markdown",
   "id": "38afee6b-75eb-4bd4-a706-51d9742fddfd",
   "metadata": {},
   "source": [
    "**Making a Prediction**\n",
    "\n",
    "This chunk illustrates the process of using a trained model to make predictions on a specific image. First, the path to the image is defined. The image is then preprocessed, using the previously defined preprocess_image function, to meet the requirements of the model. The model then predicts the class probabilities for the preprocessed image. A helper function from the keras EfficientNet module, decode_predictions, is used to convert the class probabilities into human-readable class labels. The top 5 predictions, including their class names and probabilities, are then printed out for review."
   ]
  },
  {
   "cell_type": "code",
   "execution_count": 42,
   "id": "2b396de6-fba1-47c5-9399-1b544c3bf972",
   "metadata": {
    "tags": []
   },
   "outputs": [
    {
     "name": "stdout",
     "output_type": "stream",
     "text": [
      "(1, 224, 224, 3)\n",
      "1/1 [==============================] - 0s 88ms/step\n",
      "1: tench (n01440764) - 43.42%\n",
      "2: barracouta (n02514041) - 11.98%\n",
      "3: gar (n02641379) - 6.03%\n",
      "4: coho (n02536864) - 5.44%\n",
      "5: reel (n04067472) - 1.94%\n"
     ]
    }
   ],
   "source": [
    "# Define the path to the image we want to make predictions on\n",
    "image_path = '/home/jovyan/shared/jiarui-notebooks/main-qimg-a0299f9fe9ff1e7e756a66901d3e6fb0-lq.jpeg'\n",
    "\n",
    "# Preprocess the image using our predefined function\n",
    "img = preprocess_image(image_path)\n",
    "\n",
    "# Use the model to predict the class probabilities of the preprocessed image\n",
    "predictions = model.predict(img)\n",
    "\n",
    "# Define a helper function to decode the predictions into human-readable class names\n",
    "decode_predictions = tf.keras.applications.efficientnet.decode_predictions\n",
    "\n",
    "# Use the helper function to decode the top 5 predictions\n",
    "predicted_classes = decode_predictions(predictions, top=5)\n",
    "\n",
    "# Print out the top 5 predictions along with their probabilities\n",
    "for i, (imagenet_id, name, prob) in enumerate(predicted_classes[0]):\n",
    "    print(f\"{i+1}: {name} ({imagenet_id}) - {prob*100:.2f}%\")"
   ]
  },
  {
   "cell_type": "code",
   "execution_count": null,
   "id": "3b0ebca1-4ca2-47cf-b731-b35f17b6e4a8",
   "metadata": {},
   "outputs": [],
   "source": []
  }
 ],
 "metadata": {
  "kernelspec": {
   "display_name": "Python 3 (ipykernel)",
   "language": "python",
   "name": "python3"
  },
  "language_info": {
   "codemirror_mode": {
    "name": "ipython",
    "version": 3
   },
   "file_extension": ".py",
   "mimetype": "text/x-python",
   "name": "python",
   "nbconvert_exporter": "python",
   "pygments_lexer": "ipython3",
   "version": "3.10.12"
  }
 },
 "nbformat": 4,
 "nbformat_minor": 5
}
